{
 "cells": [
  {
   "cell_type": "markdown",
   "id": "7e57525e",
   "metadata": {},
   "source": [
    "### Via CEP\n",
    "\n",
    "https://viacep.com.br/"
   ]
  },
  {
   "cell_type": "markdown",
   "id": "84f1d631",
   "metadata": {},
   "source": [
    "#### Consulta de informações de um CEP"
   ]
  },
  {
   "cell_type": "code",
   "execution_count": 5,
   "id": "fe813e51",
   "metadata": {},
   "outputs": [
    {
     "name": "stdout",
     "output_type": "stream",
     "text": [
      "Informe o CEP: 08080360\n",
      "Estado (UF): SP\n",
      "Cidade: São Paulo\n",
      "Bairro: Parque Paulistano\n"
     ]
    }
   ],
   "source": [
    "import requests\n",
    "\n",
    "# Solicita ao usuário que informe o CEP\n",
    "cep = input('Informe o CEP: ')\n",
    "\n",
    "# Constrói o link de acesso à API ViaCEP\n",
    "link = f'https://viacep.com.br/ws/{cep}/json/'\n",
    "\n",
    "# Realiza a requisição GET para obter os dados do CEP\n",
    "requisicao = requests.get(link)\n",
    "\n",
    "# Verifica se a requisição foi bem-sucedida (código de resposta 200)\n",
    "if requisicao.status_code == 200:\n",
    "    # Converte os dados da resposta para um dicionário\n",
    "    dados_cep = requisicao.json()\n",
    "\n",
    "    # Extrai e exibe as informações do CEP\n",
    "    uf = dados_cep.get('uf')\n",
    "    cidade = dados_cep.get('localidade')\n",
    "    bairro = dados_cep.get('bairro')\n",
    "\n",
    "    # Exibe as informações\n",
    "    print(f'Estado (UF): {uf}')\n",
    "    print(f'Cidade: {cidade}')\n",
    "    print(f'Bairro: {bairro}')\n",
    "else:\n",
    "    print(f'Erro ao consultar o CEP: código {requisicao.status_code}')\n"
   ]
  },
  {
   "cell_type": "markdown",
   "id": "0abd6940",
   "metadata": {},
   "source": [
    "#### Busca de CEP a partir de endereço"
   ]
  },
  {
   "cell_type": "code",
   "execution_count": 14,
   "id": "b16aeb36",
   "metadata": {},
   "outputs": [
    {
     "name": "stdout",
     "output_type": "stream",
     "text": [
      "Informe a UF (Estado) (ex: RJ): sp\n",
      "Informe a cidade: são paulo\n",
      "Informe o endereço: rua paranacity\n",
      "<Response [200]>\n"
     ]
    },
    {
     "data": {
      "text/html": [
       "<div>\n",
       "<style scoped>\n",
       "    .dataframe tbody tr th:only-of-type {\n",
       "        vertical-align: middle;\n",
       "    }\n",
       "\n",
       "    .dataframe tbody tr th {\n",
       "        vertical-align: top;\n",
       "    }\n",
       "\n",
       "    .dataframe thead th {\n",
       "        text-align: right;\n",
       "    }\n",
       "</style>\n",
       "<table border=\"1\" class=\"dataframe\">\n",
       "  <thead>\n",
       "    <tr style=\"text-align: right;\">\n",
       "      <th></th>\n",
       "      <th>cep</th>\n",
       "      <th>logradouro</th>\n",
       "      <th>complemento</th>\n",
       "      <th>bairro</th>\n",
       "      <th>localidade</th>\n",
       "      <th>uf</th>\n",
       "      <th>ibge</th>\n",
       "      <th>gia</th>\n",
       "      <th>ddd</th>\n",
       "      <th>siafi</th>\n",
       "    </tr>\n",
       "  </thead>\n",
       "  <tbody>\n",
       "    <tr>\n",
       "      <th>0</th>\n",
       "      <td>08080-360</td>\n",
       "      <td>Rua Paranacity</td>\n",
       "      <td></td>\n",
       "      <td>Parque Paulistano</td>\n",
       "      <td>São Paulo</td>\n",
       "      <td>SP</td>\n",
       "      <td>3550308</td>\n",
       "      <td>1004</td>\n",
       "      <td>11</td>\n",
       "      <td>7107</td>\n",
       "    </tr>\n",
       "  </tbody>\n",
       "</table>\n",
       "</div>"
      ],
      "text/plain": [
       "         cep      logradouro complemento             bairro localidade  uf  \\\n",
       "0  08080-360  Rua Paranacity              Parque Paulistano  São Paulo  SP   \n",
       "\n",
       "      ibge   gia ddd siafi  \n",
       "0  3550308  1004  11  7107  "
      ]
     },
     "metadata": {},
     "output_type": "display_data"
    }
   ],
   "source": [
    "import requests\n",
    "import pandas as pd\n",
    "\n",
    "# Solicitando o UF (Estado) ao usuário\n",
    "uf = input('Informe a UF (Estado) (ex: RJ): ')\n",
    "\n",
    "# Solicitando a cidade ao usuário\n",
    "cidade = input('Informe a cidade: ')\n",
    "\n",
    "# Solicitando o endereço ao usuário\n",
    "endereco = input('Informe o endereço: ')\n",
    "\n",
    "# Montando a URL de consulta ao ViaCEP\n",
    "link = f'https://viacep.com.br/ws/{uf}/{cidade}/{endereco}/json/'\n",
    "\n",
    "# Realizando a requisição GET ao ViaCEP\n",
    "requisicao = requests.get(link)\n",
    "print(requisicao)\n",
    "\n",
    "# Verificando se a requisição foi bem-sucedida\n",
    "if requisicao.status_code == 200:\n",
    "    dic_requisicao = requisicao.json()\n",
    "    tabela = pd.DataFrame(dic_requisicao)\n",
    "    display(tabela)\n",
    "else:\n",
    "    print(f'Erro ao consultar o ViaCEP: código {requisicao.status_code}')\n"
   ]
  },
  {
   "cell_type": "code",
   "execution_count": null,
   "id": "ffc3338b",
   "metadata": {},
   "outputs": [],
   "source": []
  }
 ],
 "metadata": {
  "kernelspec": {
   "display_name": "Python 3 (ipykernel)",
   "language": "python",
   "name": "python3"
  },
  "language_info": {
   "codemirror_mode": {
    "name": "ipython",
    "version": 3
   },
   "file_extension": ".py",
   "mimetype": "text/x-python",
   "name": "python",
   "nbconvert_exporter": "python",
   "pygments_lexer": "ipython3",
   "version": "3.9.12"
  }
 },
 "nbformat": 4,
 "nbformat_minor": 5
}
